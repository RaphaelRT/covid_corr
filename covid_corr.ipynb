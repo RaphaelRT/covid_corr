{
 "cells": [
  {
   "cell_type": "markdown",
   "metadata": {
    "id": "QgAKf6nRuwuK"
   },
   "source": [
    "# **Analyse de la relation dose-réponse des médicaments**\n",
    "***\n",
    "**Table des matières :**\n",
    "* [1. Importation et aperçu des données](#1)\n",
    "* [2. Analyse individuelle des médicaments](#2)\n",
    "  * [2.1 Analyse du premier médicament](#21)\n",
    "    * [2.1.1 Traitement des données](#211)\n",
    "    * [2.1.2 Visualisation des données](#212)\n",
    "    * [2.1.3 Application de la Régression Linéaire Simple](#213)\n",
    "  * [2.2 Analyse du deuxième médicament](#22)\n",
    "    * [2.2.1 Traitement des données](#221)\n",
    "    * [2.2.2 Visualisation des données](#222)\n",
    "    * [2.2.3 Application de la Régression Linéaire Simple](#223)\n",
    "  * [2.3 Analyse du troisième médicament](#23)\n",
    "    * [2.3.1 Traitement des données](#231)\n",
    "    * [2.3.2 Visualisation des données](#232)\n",
    "    * [2.3.3 Application de la Régression Linéaire Simple](#233)\n",
    "  * [2.4 Analyse du quatrième médicament](#24)\n",
    "    * [2.4.1 Visualisation des données](#241)\n",
    "    * [2.4.2 Application de la Régression Logistique](#242)\n",
    "***\n",
    "\n",
    "**Équipe :** \n",
    "- Étienne ROSEAU\n",
    "- Léo SABLONG\n",
    "- Raphaël ROBERT\n",
    "- Zhifeng LIANG\n",
    " "
   ]
  },
  {
   "cell_type": "markdown",
   "metadata": {
    "id": "w5hH862rvBL4"
   },
   "source": [
    "<a id='1'></a>\n",
    "## **1. Importation et aperçu des données**"
   ]
  },
  {
   "cell_type": "code",
   "execution_count": 1,
   "metadata": {
    "colab": {
     "base_uri": "https://localhost:8080/"
    },
    "executionInfo": {
     "elapsed": 43266,
     "status": "ok",
     "timestamp": 1605620208897,
     "user": {
      "displayName": "Etienne ROSEAU",
      "photoUrl": "",
      "userId": "01574266322609413673"
     },
     "user_tz": -60
    },
    "id": "snb2waYqbdl1",
    "outputId": "9c42dd3b-fef8-4817-d877-237c68625583"
   },
   "outputs": [
    {
     "name": "stdout",
     "output_type": "stream",
     "text": [
      "Mounted at /content/drive\n"
     ]
    }
   ],
   "source": [
    "from google.colab import drive\n",
    "drive.mount('/content/drive', force_remount=True)"
   ]
  },
  {
   "cell_type": "code",
   "execution_count": 2,
   "metadata": {
    "colab": {
     "base_uri": "https://localhost:8080/",
     "height": 414
    },
    "executionInfo": {
     "elapsed": 527,
     "status": "error",
     "timestamp": 1605620212805,
     "user": {
      "displayName": "Etienne ROSEAU",
      "photoUrl": "",
      "userId": "01574266322609413673"
     },
     "user_tz": -60
    },
    "id": "nHfn5q16Zdx6",
    "outputId": "1824a606-2c0e-4b26-b4c7-08283ac16204"
   },
   "outputs": [
    {
     "ename": "FileNotFoundError",
     "evalue": "ignored",
     "output_type": "error",
     "traceback": [
      "\u001b[0;31m---------------------------------------------------------------------------\u001b[0m",
      "\u001b[0;31mFileNotFoundError\u001b[0m                         Traceback (most recent call last)",
      "\u001b[0;32m<ipython-input-2-3887f5f7442e>\u001b[0m in \u001b[0;36m<module>\u001b[0;34m()\u001b[0m\n\u001b[1;32m      1\u001b[0m \u001b[0;32mimport\u001b[0m \u001b[0mpandas\u001b[0m \u001b[0;32mas\u001b[0m \u001b[0mpd\u001b[0m\u001b[0;34m\u001b[0m\u001b[0;34m\u001b[0m\u001b[0m\n\u001b[0;32m----> 2\u001b[0;31m \u001b[0mdf\u001b[0m \u001b[0;34m=\u001b[0m \u001b[0mpd\u001b[0m\u001b[0;34m.\u001b[0m\u001b[0mread_csv\u001b[0m\u001b[0;34m(\u001b[0m\u001b[0;34m'/content/drive/My Drive/Relation dose-effet/hetic master data - Sheet3.csv'\u001b[0m\u001b[0;34m)\u001b[0m\u001b[0;34m\u001b[0m\u001b[0;34m\u001b[0m\u001b[0m\n\u001b[0m\u001b[1;32m      3\u001b[0m \u001b[0mdf\u001b[0m\u001b[0;34m.\u001b[0m\u001b[0mhead\u001b[0m\u001b[0;34m(\u001b[0m\u001b[0;36m10\u001b[0m\u001b[0;34m)\u001b[0m\u001b[0;34m\u001b[0m\u001b[0;34m\u001b[0m\u001b[0m\n",
      "\u001b[0;32m/usr/local/lib/python3.6/dist-packages/pandas/io/parsers.py\u001b[0m in \u001b[0;36mread_csv\u001b[0;34m(filepath_or_buffer, sep, delimiter, header, names, index_col, usecols, squeeze, prefix, mangle_dupe_cols, dtype, engine, converters, true_values, false_values, skipinitialspace, skiprows, skipfooter, nrows, na_values, keep_default_na, na_filter, verbose, skip_blank_lines, parse_dates, infer_datetime_format, keep_date_col, date_parser, dayfirst, cache_dates, iterator, chunksize, compression, thousands, decimal, lineterminator, quotechar, quoting, doublequote, escapechar, comment, encoding, dialect, error_bad_lines, warn_bad_lines, delim_whitespace, low_memory, memory_map, float_precision)\u001b[0m\n\u001b[1;32m    686\u001b[0m     )\n\u001b[1;32m    687\u001b[0m \u001b[0;34m\u001b[0m\u001b[0m\n\u001b[0;32m--> 688\u001b[0;31m     \u001b[0;32mreturn\u001b[0m \u001b[0m_read\u001b[0m\u001b[0;34m(\u001b[0m\u001b[0mfilepath_or_buffer\u001b[0m\u001b[0;34m,\u001b[0m \u001b[0mkwds\u001b[0m\u001b[0;34m)\u001b[0m\u001b[0;34m\u001b[0m\u001b[0;34m\u001b[0m\u001b[0m\n\u001b[0m\u001b[1;32m    689\u001b[0m \u001b[0;34m\u001b[0m\u001b[0m\n\u001b[1;32m    690\u001b[0m \u001b[0;34m\u001b[0m\u001b[0m\n",
      "\u001b[0;32m/usr/local/lib/python3.6/dist-packages/pandas/io/parsers.py\u001b[0m in \u001b[0;36m_read\u001b[0;34m(filepath_or_buffer, kwds)\u001b[0m\n\u001b[1;32m    452\u001b[0m \u001b[0;34m\u001b[0m\u001b[0m\n\u001b[1;32m    453\u001b[0m     \u001b[0;31m# Create the parser.\u001b[0m\u001b[0;34m\u001b[0m\u001b[0;34m\u001b[0m\u001b[0;34m\u001b[0m\u001b[0m\n\u001b[0;32m--> 454\u001b[0;31m     \u001b[0mparser\u001b[0m \u001b[0;34m=\u001b[0m \u001b[0mTextFileReader\u001b[0m\u001b[0;34m(\u001b[0m\u001b[0mfp_or_buf\u001b[0m\u001b[0;34m,\u001b[0m \u001b[0;34m**\u001b[0m\u001b[0mkwds\u001b[0m\u001b[0;34m)\u001b[0m\u001b[0;34m\u001b[0m\u001b[0;34m\u001b[0m\u001b[0m\n\u001b[0m\u001b[1;32m    455\u001b[0m \u001b[0;34m\u001b[0m\u001b[0m\n\u001b[1;32m    456\u001b[0m     \u001b[0;32mif\u001b[0m \u001b[0mchunksize\u001b[0m \u001b[0;32mor\u001b[0m \u001b[0miterator\u001b[0m\u001b[0;34m:\u001b[0m\u001b[0;34m\u001b[0m\u001b[0;34m\u001b[0m\u001b[0m\n",
      "\u001b[0;32m/usr/local/lib/python3.6/dist-packages/pandas/io/parsers.py\u001b[0m in \u001b[0;36m__init__\u001b[0;34m(self, f, engine, **kwds)\u001b[0m\n\u001b[1;32m    946\u001b[0m             \u001b[0mself\u001b[0m\u001b[0;34m.\u001b[0m\u001b[0moptions\u001b[0m\u001b[0;34m[\u001b[0m\u001b[0;34m\"has_index_names\"\u001b[0m\u001b[0;34m]\u001b[0m \u001b[0;34m=\u001b[0m \u001b[0mkwds\u001b[0m\u001b[0;34m[\u001b[0m\u001b[0;34m\"has_index_names\"\u001b[0m\u001b[0;34m]\u001b[0m\u001b[0;34m\u001b[0m\u001b[0;34m\u001b[0m\u001b[0m\n\u001b[1;32m    947\u001b[0m \u001b[0;34m\u001b[0m\u001b[0m\n\u001b[0;32m--> 948\u001b[0;31m         \u001b[0mself\u001b[0m\u001b[0;34m.\u001b[0m\u001b[0m_make_engine\u001b[0m\u001b[0;34m(\u001b[0m\u001b[0mself\u001b[0m\u001b[0;34m.\u001b[0m\u001b[0mengine\u001b[0m\u001b[0;34m)\u001b[0m\u001b[0;34m\u001b[0m\u001b[0;34m\u001b[0m\u001b[0m\n\u001b[0m\u001b[1;32m    949\u001b[0m \u001b[0;34m\u001b[0m\u001b[0m\n\u001b[1;32m    950\u001b[0m     \u001b[0;32mdef\u001b[0m \u001b[0mclose\u001b[0m\u001b[0;34m(\u001b[0m\u001b[0mself\u001b[0m\u001b[0;34m)\u001b[0m\u001b[0;34m:\u001b[0m\u001b[0;34m\u001b[0m\u001b[0;34m\u001b[0m\u001b[0m\n",
      "\u001b[0;32m/usr/local/lib/python3.6/dist-packages/pandas/io/parsers.py\u001b[0m in \u001b[0;36m_make_engine\u001b[0;34m(self, engine)\u001b[0m\n\u001b[1;32m   1178\u001b[0m     \u001b[0;32mdef\u001b[0m \u001b[0m_make_engine\u001b[0m\u001b[0;34m(\u001b[0m\u001b[0mself\u001b[0m\u001b[0;34m,\u001b[0m \u001b[0mengine\u001b[0m\u001b[0;34m=\u001b[0m\u001b[0;34m\"c\"\u001b[0m\u001b[0;34m)\u001b[0m\u001b[0;34m:\u001b[0m\u001b[0;34m\u001b[0m\u001b[0;34m\u001b[0m\u001b[0m\n\u001b[1;32m   1179\u001b[0m         \u001b[0;32mif\u001b[0m \u001b[0mengine\u001b[0m \u001b[0;34m==\u001b[0m \u001b[0;34m\"c\"\u001b[0m\u001b[0;34m:\u001b[0m\u001b[0;34m\u001b[0m\u001b[0;34m\u001b[0m\u001b[0m\n\u001b[0;32m-> 1180\u001b[0;31m             \u001b[0mself\u001b[0m\u001b[0;34m.\u001b[0m\u001b[0m_engine\u001b[0m \u001b[0;34m=\u001b[0m \u001b[0mCParserWrapper\u001b[0m\u001b[0;34m(\u001b[0m\u001b[0mself\u001b[0m\u001b[0;34m.\u001b[0m\u001b[0mf\u001b[0m\u001b[0;34m,\u001b[0m \u001b[0;34m**\u001b[0m\u001b[0mself\u001b[0m\u001b[0;34m.\u001b[0m\u001b[0moptions\u001b[0m\u001b[0;34m)\u001b[0m\u001b[0;34m\u001b[0m\u001b[0;34m\u001b[0m\u001b[0m\n\u001b[0m\u001b[1;32m   1181\u001b[0m         \u001b[0;32melse\u001b[0m\u001b[0;34m:\u001b[0m\u001b[0;34m\u001b[0m\u001b[0;34m\u001b[0m\u001b[0m\n\u001b[1;32m   1182\u001b[0m             \u001b[0;32mif\u001b[0m \u001b[0mengine\u001b[0m \u001b[0;34m==\u001b[0m \u001b[0;34m\"python\"\u001b[0m\u001b[0;34m:\u001b[0m\u001b[0;34m\u001b[0m\u001b[0;34m\u001b[0m\u001b[0m\n",
      "\u001b[0;32m/usr/local/lib/python3.6/dist-packages/pandas/io/parsers.py\u001b[0m in \u001b[0;36m__init__\u001b[0;34m(self, src, **kwds)\u001b[0m\n\u001b[1;32m   2008\u001b[0m         \u001b[0mkwds\u001b[0m\u001b[0;34m[\u001b[0m\u001b[0;34m\"usecols\"\u001b[0m\u001b[0;34m]\u001b[0m \u001b[0;34m=\u001b[0m \u001b[0mself\u001b[0m\u001b[0;34m.\u001b[0m\u001b[0musecols\u001b[0m\u001b[0;34m\u001b[0m\u001b[0;34m\u001b[0m\u001b[0m\n\u001b[1;32m   2009\u001b[0m \u001b[0;34m\u001b[0m\u001b[0m\n\u001b[0;32m-> 2010\u001b[0;31m         \u001b[0mself\u001b[0m\u001b[0;34m.\u001b[0m\u001b[0m_reader\u001b[0m \u001b[0;34m=\u001b[0m \u001b[0mparsers\u001b[0m\u001b[0;34m.\u001b[0m\u001b[0mTextReader\u001b[0m\u001b[0;34m(\u001b[0m\u001b[0msrc\u001b[0m\u001b[0;34m,\u001b[0m \u001b[0;34m**\u001b[0m\u001b[0mkwds\u001b[0m\u001b[0;34m)\u001b[0m\u001b[0;34m\u001b[0m\u001b[0;34m\u001b[0m\u001b[0m\n\u001b[0m\u001b[1;32m   2011\u001b[0m         \u001b[0mself\u001b[0m\u001b[0;34m.\u001b[0m\u001b[0munnamed_cols\u001b[0m \u001b[0;34m=\u001b[0m \u001b[0mself\u001b[0m\u001b[0;34m.\u001b[0m\u001b[0m_reader\u001b[0m\u001b[0;34m.\u001b[0m\u001b[0munnamed_cols\u001b[0m\u001b[0;34m\u001b[0m\u001b[0;34m\u001b[0m\u001b[0m\n\u001b[1;32m   2012\u001b[0m \u001b[0;34m\u001b[0m\u001b[0m\n",
      "\u001b[0;32mpandas/_libs/parsers.pyx\u001b[0m in \u001b[0;36mpandas._libs.parsers.TextReader.__cinit__\u001b[0;34m()\u001b[0m\n",
      "\u001b[0;32mpandas/_libs/parsers.pyx\u001b[0m in \u001b[0;36mpandas._libs.parsers.TextReader._setup_parser_source\u001b[0;34m()\u001b[0m\n",
      "\u001b[0;31mFileNotFoundError\u001b[0m: [Errno 2] No such file or directory: '/content/drive/My Drive/Relation dose-effet/hetic master data - Sheet3.csv'"
     ]
    }
   ],
   "source": [
    "import pandas as pd \n",
    "df = pd.read_csv('/content/drive/My Drive/Relation dose-effet/hetic master data - Sheet3.csv')\n",
    "df.head(10)"
   ]
  },
  {
   "cell_type": "code",
   "execution_count": null,
   "metadata": {
    "id": "HgqpeX2jb6AF"
   },
   "outputs": [],
   "source": [
    "from google.colab import drive\n",
    "drive.mount('/content/drive')"
   ]
  },
  {
   "cell_type": "code",
   "execution_count": null,
   "metadata": {
    "colab": {
     "base_uri": "https://localhost:8080/"
    },
    "executionInfo": {
     "elapsed": 2416,
     "status": "ok",
     "timestamp": 1605613574234,
     "user": {
      "displayName": "Zhifeng LIANG",
      "photoUrl": "",
      "userId": "05210925953833265576"
     },
     "user_tz": -60
    },
    "id": "8E4hyEmXIMB_",
    "outputId": "835195dd-cdb9-42a3-d329-dc21bd493d5b"
   },
   "outputs": [
    {
     "data": {
      "text/plain": [
       "0    27\n",
       "1     9\n",
       "Name: response 4, dtype: int64"
      ]
     },
     "execution_count": 3,
     "metadata": {
      "tags": []
     },
     "output_type": "execute_result"
    }
   ],
   "source": [
    "df['response 4'].value_counts()"
   ]
  },
  {
   "cell_type": "code",
   "execution_count": null,
   "metadata": {
    "id": "Ll5NPMGNDEvy"
   },
   "outputs": [],
   "source": [
    "df = df.sort_values('dose')"
   ]
  },
  {
   "cell_type": "code",
   "execution_count": null,
   "metadata": {
    "colab": {
     "base_uri": "https://localhost:8080/"
    },
    "executionInfo": {
     "elapsed": 2402,
     "status": "ok",
     "timestamp": 1605613574235,
     "user": {
      "displayName": "Zhifeng LIANG",
      "photoUrl": "",
      "userId": "05210925953833265576"
     },
     "user_tz": -60
    },
    "id": "wGRoQNKV91d5",
    "outputId": "f7d4addb-9bf8-447c-9369-0946a350d55a"
   },
   "outputs": [
    {
     "name": "stdout",
     "output_type": "stream",
     "text": [
      "<class 'pandas.core.frame.DataFrame'>\n",
      "Int64Index: 36 entries, 0 to 35\n",
      "Data columns (total 6 columns):\n",
      " #   Column          Non-Null Count  Dtype  \n",
      "---  ------          --------------  -----  \n",
      " 0   dose            36 non-null     int64  \n",
      " 1   Patient number  36 non-null     int64  \n",
      " 2   Response 1      36 non-null     float64\n",
      " 3   response 2      36 non-null     float64\n",
      " 4   Response 3      36 non-null     float64\n",
      " 5   response 4      36 non-null     int64  \n",
      "dtypes: float64(3), int64(3)\n",
      "memory usage: 2.0 KB\n"
     ]
    }
   ],
   "source": [
    "df.info()"
   ]
  },
  {
   "cell_type": "code",
   "execution_count": null,
   "metadata": {
    "colab": {
     "base_uri": "https://localhost:8080/",
     "height": 297
    },
    "executionInfo": {
     "elapsed": 2393,
     "status": "ok",
     "timestamp": 1605613574235,
     "user": {
      "displayName": "Zhifeng LIANG",
      "photoUrl": "",
      "userId": "05210925953833265576"
     },
     "user_tz": -60
    },
    "id": "ddKnQdNE8Str",
    "outputId": "dd6ae6f5-99f2-488b-d4f6-3257ee604856"
   },
   "outputs": [
    {
     "data": {
      "text/html": [
       "<div>\n",
       "<style scoped>\n",
       "    .dataframe tbody tr th:only-of-type {\n",
       "        vertical-align: middle;\n",
       "    }\n",
       "\n",
       "    .dataframe tbody tr th {\n",
       "        vertical-align: top;\n",
       "    }\n",
       "\n",
       "    .dataframe thead th {\n",
       "        text-align: right;\n",
       "    }\n",
       "</style>\n",
       "<table border=\"1\" class=\"dataframe\">\n",
       "  <thead>\n",
       "    <tr style=\"text-align: right;\">\n",
       "      <th></th>\n",
       "      <th>Response 1</th>\n",
       "      <th>response 2</th>\n",
       "      <th>Response 3</th>\n",
       "      <th>response 4</th>\n",
       "    </tr>\n",
       "  </thead>\n",
       "  <tbody>\n",
       "    <tr>\n",
       "      <th>count</th>\n",
       "      <td>36.000000</td>\n",
       "      <td>36.000000</td>\n",
       "      <td>36.000000</td>\n",
       "      <td>36.000000</td>\n",
       "    </tr>\n",
       "    <tr>\n",
       "      <th>mean</th>\n",
       "      <td>-0.554809</td>\n",
       "      <td>-0.498339</td>\n",
       "      <td>0.265675</td>\n",
       "      <td>0.250000</td>\n",
       "    </tr>\n",
       "    <tr>\n",
       "      <th>std</th>\n",
       "      <td>4.673776</td>\n",
       "      <td>4.667685</td>\n",
       "      <td>0.357837</td>\n",
       "      <td>0.439155</td>\n",
       "    </tr>\n",
       "    <tr>\n",
       "      <th>min</th>\n",
       "      <td>-2.944439</td>\n",
       "      <td>-2.933886</td>\n",
       "      <td>0.050000</td>\n",
       "      <td>0.000000</td>\n",
       "    </tr>\n",
       "    <tr>\n",
       "      <th>25%</th>\n",
       "      <td>-2.932170</td>\n",
       "      <td>-2.856847</td>\n",
       "      <td>0.050587</td>\n",
       "      <td>0.000000</td>\n",
       "    </tr>\n",
       "    <tr>\n",
       "      <th>50%</th>\n",
       "      <td>-2.707248</td>\n",
       "      <td>-2.644474</td>\n",
       "      <td>0.062755</td>\n",
       "      <td>0.000000</td>\n",
       "    </tr>\n",
       "    <tr>\n",
       "      <th>75%</th>\n",
       "      <td>-1.145060</td>\n",
       "      <td>-1.077824</td>\n",
       "      <td>0.267545</td>\n",
       "      <td>0.250000</td>\n",
       "    </tr>\n",
       "    <tr>\n",
       "      <th>max</th>\n",
       "      <td>13.413555</td>\n",
       "      <td>13.450094</td>\n",
       "      <td>0.999999</td>\n",
       "      <td>1.000000</td>\n",
       "    </tr>\n",
       "  </tbody>\n",
       "</table>\n",
       "</div>"
      ],
      "text/plain": [
       "       Response 1  response 2  Response 3  response 4\n",
       "count   36.000000   36.000000   36.000000   36.000000\n",
       "mean    -0.554809   -0.498339    0.265675    0.250000\n",
       "std      4.673776    4.667685    0.357837    0.439155\n",
       "min     -2.944439   -2.933886    0.050000    0.000000\n",
       "25%     -2.932170   -2.856847    0.050587    0.000000\n",
       "50%     -2.707248   -2.644474    0.062755    0.000000\n",
       "75%     -1.145060   -1.077824    0.267545    0.250000\n",
       "max     13.413555   13.450094    0.999999    1.000000"
      ]
     },
     "execution_count": 6,
     "metadata": {
      "tags": []
     },
     "output_type": "execute_result"
    }
   ],
   "source": [
    "df.iloc[:, 2:].describe()"
   ]
  },
  {
   "cell_type": "markdown",
   "metadata": {
    "id": "kfI2_2lU3Pxw"
   },
   "source": [
    "<a id='2'></a>\n",
    "## **2. Analyse individuelle des médicaments**"
   ]
  },
  {
   "cell_type": "code",
   "execution_count": null,
   "metadata": {
    "id": "tCJb9EnXttbo"
   },
   "outputs": [],
   "source": [
    "import numpy as np\n",
    "import matplotlib.pyplot as plt\n",
    "from scipy import stats\n",
    "from sklearn.linear_model import LinearRegression\n",
    "from sklearn.linear_model import LogisticRegression"
   ]
  },
  {
   "cell_type": "markdown",
   "metadata": {
    "id": "vzoo-giB7yuz"
   },
   "source": [
    "<a id='21'></a>\n",
    "### **2.1 Analyse du premier médicament**"
   ]
  },
  {
   "cell_type": "markdown",
   "metadata": {
    "id": "cJgPcrb3-c07"
   },
   "source": [
    "<a id='211'></a>\n",
    "#### 2.1.1 Traitement des données"
   ]
  },
  {
   "cell_type": "markdown",
   "metadata": {
    "id": "bf3U_6J8AOcg"
   },
   "source": [
    "- Détection des données aberrantes avec Z-score\n",
    "  - Les 3 dernières données sont aberrantes\n",
    "  - On exclure ces données"
   ]
  },
  {
   "cell_type": "code",
   "execution_count": null,
   "metadata": {
    "colab": {
     "base_uri": "https://localhost:8080/"
    },
    "executionInfo": {
     "elapsed": 2829,
     "status": "ok",
     "timestamp": 1605613574686,
     "user": {
      "displayName": "Zhifeng LIANG",
      "photoUrl": "",
      "userId": "05210925953833265576"
     },
     "user_tz": -60
    },
    "id": "_VdiRRwe_bay",
    "outputId": "c6ca89fb-a1d6-49f8-c6fe-7ad6b2cda8be"
   },
   "outputs": [
    {
     "data": {
      "text/plain": [
       "34    13.413555\n",
       "33    13.413555\n",
       "35    13.413555\n",
       "Name: Response 1, dtype: float64"
      ]
     },
     "execution_count": 8,
     "metadata": {
      "tags": []
     },
     "output_type": "execute_result"
    }
   ],
   "source": [
    "df['Response 1'][stats.zscore(df['Response 1']) > 3]"
   ]
  },
  {
   "cell_type": "code",
   "execution_count": null,
   "metadata": {
    "id": "PlEVktWNEXZG"
   },
   "outputs": [],
   "source": [
    "df_medicament_1 = df['Response 1'][stats.zscore(df['Response 1']) < 3]"
   ]
  },
  {
   "cell_type": "markdown",
   "metadata": {
    "id": "Dt97KVuxFIn1"
   },
   "source": [
    "<a id='212'></a>\n",
    "#### 2.1.2 Visualisation des données"
   ]
  },
  {
   "cell_type": "code",
   "execution_count": null,
   "metadata": {
    "colab": {
     "base_uri": "https://localhost:8080/",
     "height": 316
    },
    "executionInfo": {
     "elapsed": 2816,
     "status": "ok",
     "timestamp": 1605613574688,
     "user": {
      "displayName": "Zhifeng LIANG",
      "photoUrl": "",
      "userId": "05210925953833265576"
     },
     "user_tz": -60
    },
    "id": "6cmZyqKxFW4n",
    "outputId": "f1ee4b43-ea1f-4977-e3d6-524b1ce816f7"
   },
   "outputs": [
    {
     "name": "stdout",
     "output_type": "stream",
     "text": [
      "\n",
      " Le coefficient de corrélation entre la dose et la réponse pour le première medicament est 1.0.\n",
      "\n"
     ]
    },
    {
     "data": {
      "image/png": "[encoded data removed]",
      "text/plain": [
       "<Figure size 432x288 with 1 Axes>"
      ]
     },
     "metadata": {
      "needs_background": "light",
      "tags": []
     },
     "output_type": "display_data"
    }
   ],
   "source": [
    "x1 = np.array(df['dose'].iloc[:-3])\n",
    "y1 = np.array(df_medicament_1)\n",
    "print(f\"\\n Le coefficient de corrélation entre la dose et la réponse pour le première medicament est {np.corrcoef(x1, y1)[0][1]}.\\n\")\n",
    "y1 = y1.reshape(-1,1)\n",
    "x1 = x1.reshape(-1,1)\n",
    "\n",
    "plt.scatter(x1, y1)\n",
    "plt.show()"
   ]
  },
  {
   "cell_type": "markdown",
   "metadata": {
    "id": "xiKfvEaoNowR"
   },
   "source": [
    "<a id='213'></a>\n",
    "#### 2.1.3 Application de la Régression Linéaire Simple : $\\hat{y} =  \\hat{\\beta}_{0} + \\hat{\\beta}_{1}x_{1}$"
   ]
  },
  {
   "cell_type": "code",
   "execution_count": null,
   "metadata": {
    "colab": {
     "base_uri": "https://localhost:8080/"
    },
    "executionInfo": {
     "elapsed": 2807,
     "status": "ok",
     "timestamp": 1605613574688,
     "user": {
      "displayName": "Zhifeng LIANG",
      "photoUrl": "",
      "userId": "05210925953833265576"
     },
     "user_tz": -60
    },
    "id": "FbcveG_4NzAn",
    "outputId": "8f66dfdf-4c2e-4160-d464-44dfc99d70f3"
   },
   "outputs": [
    {
     "name": "stdout",
     "output_type": "stream",
     "text": [
      "[-2.94443898] [[0.01635799]]\n"
     ]
    }
   ],
   "source": [
    "linear_regressor_1 = LinearRegression()\n",
    "linear_regressor_1.fit(x1, y1)\n",
    "y1_pred = linear_regressor_1.predict(x1)\n",
    "beta1_0 = linear_regressor_1.intercept_\n",
    "beta1_1 = linear_regressor_1.coef_\n",
    "print(beta1_0, beta1_1)"
   ]
  },
  {
   "cell_type": "markdown",
   "metadata": {
    "id": "nVUFVGQPS1Pn"
   },
   "source": [
    "$\\hat{y} =  - 2,944 + 0,016\\times x_{1}$"
   ]
  },
  {
   "cell_type": "code",
   "execution_count": null,
   "metadata": {
    "colab": {
     "base_uri": "https://localhost:8080/",
     "height": 265
    },
    "executionInfo": {
     "elapsed": 3207,
     "status": "ok",
     "timestamp": 1605613575096,
     "user": {
      "displayName": "Zhifeng LIANG",
      "photoUrl": "",
      "userId": "05210925953833265576"
     },
     "user_tz": -60
    },
    "id": "o6JFY5abYIbT",
    "outputId": "77e6c76b-4fa5-4738-cca4-30a6d3dff230"
   },
   "outputs": [
    {
     "data": {
      "image/png": "[encoded data removed]",
      "text/plain": [
       "<Figure size 432x288 with 1 Axes>"
      ]
     },
     "metadata": {
      "needs_background": "light",
      "tags": []
     },
     "output_type": "display_data"
    }
   ],
   "source": [
    "plt.scatter(x1, y1)\n",
    "plt.plot(x1, y1_pred, color='red')\n",
    "plt.show()"
   ]
  },
  {
   "cell_type": "markdown",
   "metadata": {
    "id": "_ZHnQOrtZ24h"
   },
   "source": [
    "<a id='22'></a>\n",
    "### **2.2 Analyse du deuxième médicament**"
   ]
  },
  {
   "cell_type": "markdown",
   "metadata": {
    "id": "vu7myhAkaGy9"
   },
   "source": [
    "<a id='221'></a>\n",
    "#### 2.2.1 Traitement des données"
   ]
  },
  {
   "cell_type": "markdown",
   "metadata": {
    "id": "Te6uztIgaLQw"
   },
   "source": [
    "- Détection des données aberrantes avec Z-score\n",
    "  - Les 3 dernières données sont aberrantes\n",
    "  - On exclure ces données"
   ]
  },
  {
   "cell_type": "code",
   "execution_count": null,
   "metadata": {
    "colab": {
     "base_uri": "https://localhost:8080/"
    },
    "executionInfo": {
     "elapsed": 3194,
     "status": "ok",
     "timestamp": 1605613575097,
     "user": {
      "displayName": "Zhifeng LIANG",
      "photoUrl": "",
      "userId": "05210925953833265576"
     },
     "user_tz": -60
    },
    "id": "AHjdwnoDaRnp",
    "outputId": "e02c0969-6120-497a-88b1-396bf563e213"
   },
   "outputs": [
    {
     "data": {
      "text/plain": [
       "34    13.441680\n",
       "33    13.450094\n",
       "35    13.441149\n",
       "Name: response 2, dtype: float64"
      ]
     },
     "execution_count": 13,
     "metadata": {
      "tags": []
     },
     "output_type": "execute_result"
    }
   ],
   "source": [
    "df['response 2'][stats.zscore(df['response 2']) > 3]"
   ]
  },
  {
   "cell_type": "code",
   "execution_count": null,
   "metadata": {
    "id": "-FGoGXWyacrR"
   },
   "outputs": [],
   "source": [
    "df_medicament_2 = df['response 2'][stats.zscore(df['Response 1']) < 3]"
   ]
  },
  {
   "cell_type": "markdown",
   "metadata": {
    "id": "y7v5zBbIapTq"
   },
   "source": [
    "<a id='222'></a>\n",
    "#### 2.2.2 Visualisation des données"
   ]
  },
  {
   "cell_type": "code",
   "execution_count": null,
   "metadata": {
    "colab": {
     "base_uri": "https://localhost:8080/",
     "height": 319
    },
    "executionInfo": {
     "elapsed": 3602,
     "status": "ok",
     "timestamp": 1605613575520,
     "user": {
      "displayName": "Zhifeng LIANG",
      "photoUrl": "",
      "userId": "05210925953833265576"
     },
     "user_tz": -60
    },
    "id": "dORlMeuba6bH",
    "outputId": "1f799b6b-e470-4446-fed3-61694005fb1b"
   },
   "outputs": [
    {
     "name": "stdout",
     "output_type": "stream",
     "text": [
      "\n",
      " Le coefficient de corrélation entre la dose et la réponse pour le deuxième medicament est 0.9999084628898042.\n",
      "\n"
     ]
    },
    {
     "data": {
      "image/png": "[encoded data removed]",
      "text/plain": [
       "<Figure size 432x288 with 1 Axes>"
      ]
     },
     "metadata": {
      "needs_background": "light",
      "tags": []
     },
     "output_type": "display_data"
    }
   ],
   "source": [
    "x2 = np.array(df['dose'].iloc[:-3])\n",
    "y2 = np.array(df_medicament_2)\n",
    "print(f\"\\n Le coefficient de corrélation entre la dose et la réponse pour le deuxième medicament est {np.corrcoef(x2, y2)[0][1]}.\\n\")\n",
    "y2 = y2.reshape(-1,1)\n",
    "x2 = x2.reshape(-1,1)\n",
    "plt.scatter(x2, y2)\n",
    "plt.show()"
   ]
  },
  {
   "cell_type": "markdown",
   "metadata": {
    "id": "PClKXHbNbTXu"
   },
   "source": [
    "<a id='223'></a>\n",
    "#### 2.2.3 Application de la Régression Linéaire Simple : $\\hat{y} =  \\hat{\\beta}_{0} + \\hat{\\beta}_{1}x_{1}$"
   ]
  },
  {
   "cell_type": "code",
   "execution_count": null,
   "metadata": {
    "colab": {
     "base_uri": "https://localhost:8080/"
    },
    "executionInfo": {
     "elapsed": 3593,
     "status": "ok",
     "timestamp": 1605613575520,
     "user": {
      "displayName": "Zhifeng LIANG",
      "photoUrl": "",
      "userId": "05210925953833265576"
     },
     "user_tz": -60
    },
    "id": "JMFwaskzbYyi",
    "outputId": "b377d3b2-b981-4b98-bfe9-580d2628d3b8"
   },
   "outputs": [
    {
     "name": "stdout",
     "output_type": "stream",
     "text": [
      "[-2.88711656] [[0.01637969]]\n"
     ]
    }
   ],
   "source": [
    "linear_regressor_2 = LinearRegression()\n",
    "linear_regressor_2.fit(x2, y2)\n",
    "y2_pred = linear_regressor_2.predict(x2)\n",
    "beta2_0 = linear_regressor_2.intercept_\n",
    "beta2_1 = linear_regressor_2.coef_\n",
    "print(beta2_0, beta2_1)"
   ]
  },
  {
   "cell_type": "markdown",
   "metadata": {
    "id": "yLTgDBpMbyd7"
   },
   "source": [
    "$\\hat{y} =  - 2,887 + 0,016\\times x_{1}$"
   ]
  },
  {
   "cell_type": "code",
   "execution_count": null,
   "metadata": {
    "colab": {
     "base_uri": "https://localhost:8080/",
     "height": 268
    },
    "executionInfo": {
     "elapsed": 3582,
     "status": "ok",
     "timestamp": 1605613575521,
     "user": {
      "displayName": "Zhifeng LIANG",
      "photoUrl": "",
      "userId": "05210925953833265576"
     },
     "user_tz": -60
    },
    "id": "1UUe48dfcMzx",
    "outputId": "4ea41f91-5b67-4838-8e7f-cf66ca069779"
   },
   "outputs": [
    {
     "data": {
      "image/png": "[encoded data removed]",
      "text/plain": [
       "<Figure size 432x288 with 1 Axes>"
      ]
     },
     "metadata": {
      "needs_background": "light",
      "tags": []
     },
     "output_type": "display_data"
    }
   ],
   "source": [
    "plt.scatter(x2, y2)\n",
    "plt.plot(x2, y2_pred, color='red')\n",
    "plt.show()"
   ]
  },
  {
   "cell_type": "markdown",
   "metadata": {
    "id": "88eTEKtIcgdZ"
   },
   "source": [
    "<a id='23'></a>\n",
    "### **2.3 Analyse du troisième médicament**"
   ]
  },
  {
   "cell_type": "markdown",
   "metadata": {
    "id": "eQwP-GdLd7V9"
   },
   "source": [
    "<a id='231'></a>\n",
    "#### 2.3.1 Traitement des données"
   ]
  },
  {
   "cell_type": "markdown",
   "metadata": {
    "id": "p4-CLAVDdh_3"
   },
   "source": [
    "- Détection des données aberrantes avec Z-score\n",
    "  - Aucune donnée est aberrante"
   ]
  },
  {
   "cell_type": "code",
   "execution_count": null,
   "metadata": {
    "colab": {
     "base_uri": "https://localhost:8080/"
    },
    "executionInfo": {
     "elapsed": 3574,
     "status": "ok",
     "timestamp": 1605613575522,
     "user": {
      "displayName": "Zhifeng LIANG",
      "photoUrl": "",
      "userId": "05210925953833265576"
     },
     "user_tz": -60
    },
    "id": "bDSY22F-dswC",
    "outputId": "49960a7d-1338-4241-fd6e-61799b817d2b"
   },
   "outputs": [
    {
     "data": {
      "text/plain": [
       "Series([], Name: Response 3, dtype: float64)"
      ]
     },
     "execution_count": 18,
     "metadata": {
      "tags": []
     },
     "output_type": "execute_result"
    }
   ],
   "source": [
    "df['Response 3'][stats.zscore(df['Response 3']) > 3]"
   ]
  },
  {
   "cell_type": "markdown",
   "metadata": {
    "id": "WPJQTldVfid6"
   },
   "source": [
    "<a id='232'></a>\n",
    "#### 2.3.2 Visualisation des données"
   ]
  },
  {
   "cell_type": "code",
   "execution_count": null,
   "metadata": {
    "colab": {
     "base_uri": "https://localhost:8080/",
     "height": 316
    },
    "executionInfo": {
     "elapsed": 4007,
     "status": "ok",
     "timestamp": 1605613575965,
     "user": {
      "displayName": "Zhifeng LIANG",
      "photoUrl": "",
      "userId": "05210925953833265576"
     },
     "user_tz": -60
    },
    "id": "zW3cWd_5fu0Z",
    "outputId": "75e934aa-a9b9-4691-b3bb-a5e29d0a158e"
   },
   "outputs": [
    {
     "name": "stdout",
     "output_type": "stream",
     "text": [
      "\n",
      " Le coefficient de corrélation entre la dose et la réponse pour le troisième medicament est 0.8875211112473089.\n",
      "\n"
     ]
    },
    {
     "data": {
      "image/png": "[encoded data removed]",
      "text/plain": [
       "<Figure size 432x288 with 1 Axes>"
      ]
     },
     "metadata": {
      "needs_background": "light",
      "tags": []
     },
     "output_type": "display_data"
    }
   ],
   "source": [
    "x3 = np.array(df['dose'])\n",
    "y3 = np.array(df['Response 3'])\n",
    "print(f\"\\n Le coefficient de corrélation entre la dose et la réponse pour le troisième medicament est {np.corrcoef(x3, y3)[0][1]}.\\n\")\n",
    "y3 = y3.reshape(-1,1)\n",
    "x3 = x3.reshape(-1,1)\n",
    "plt.scatter(x3, y3)\n",
    "plt.plot(x3, y3, color='g')\n",
    "plt.show()"
   ]
  },
  {
   "cell_type": "markdown",
   "metadata": {
    "id": "vPb_fak_mBZY"
   },
   "source": [
    "<a id='233'></a>\n",
    "#### 2.3.3 Application de la Régression Logistique"
   ]
  },
  {
   "cell_type": "code",
   "execution_count": null,
   "metadata": {
    "colab": {
     "base_uri": "https://localhost:8080/"
    },
    "executionInfo": {
     "elapsed": 3999,
     "status": "ok",
     "timestamp": 1605613575966,
     "user": {
      "displayName": "Zhifeng LIANG",
      "photoUrl": "",
      "userId": "05210925953833265576"
     },
     "user_tz": -60
    },
    "id": "zYys7HIJmE8n",
    "outputId": "e139a081-46da-4155-967e-d8f27c2e7e82"
   },
   "outputs": [
    {
     "name": "stdout",
     "output_type": "stream",
     "text": [
      "[0.10329691] [[0.00111154]]\n"
     ]
    }
   ],
   "source": [
    "linear_regressor_3 = LinearRegression()\n",
    "linear_regressor_3.fit(x3, y3)\n",
    "y3_pred = linear_regressor_3.predict(x3)\n",
    "beta3_0 = linear_regressor_3.intercept_\n",
    "beta3_1 = linear_regressor_3.coef_\n",
    "print(beta3_0, beta3_1)"
   ]
  },
  {
   "cell_type": "code",
   "execution_count": null,
   "metadata": {
    "colab": {
     "base_uri": "https://localhost:8080/",
     "height": 265
    },
    "executionInfo": {
     "elapsed": 3990,
     "status": "ok",
     "timestamp": 1605613575967,
     "user": {
      "displayName": "Zhifeng LIANG",
      "photoUrl": "",
      "userId": "05210925953833265576"
     },
     "user_tz": -60
    },
    "id": "uqZ1zbNMmvg2",
    "outputId": "a1eac9b6-820b-4275-8b54-43e41b66ae1e"
   },
   "outputs": [
    {
     "data": {
      "image/png": "[encoded data removed]",
      "text/plain": [
       "<Figure size 432x288 with 1 Axes>"
      ]
     },
     "metadata": {
      "needs_background": "light",
      "tags": []
     },
     "output_type": "display_data"
    }
   ],
   "source": [
    "plt.scatter(x3, y3)\n",
    "plt.plot(x3, y3, color='g')\n",
    "plt.plot(x3, y3_pred, color='r')\n",
    "plt.show()"
   ]
  },
  {
   "cell_type": "markdown",
   "metadata": {
    "id": "2FDUgOXAniL8"
   },
   "source": [
    "<a id='24'></a>\n",
    "### **2.4 Analyse du quatrième médicament**"
   ]
  },
  {
   "cell_type": "markdown",
   "metadata": {
    "id": "agetbjchnvW1"
   },
   "source": [
    "<a id='241'></a>\n",
    "#### 2.4.1 Visualisation des données"
   ]
  },
  {
   "cell_type": "code",
   "execution_count": null,
   "metadata": {
    "colab": {
     "base_uri": "https://localhost:8080/",
     "height": 316
    },
    "executionInfo": {
     "elapsed": 3982,
     "status": "ok",
     "timestamp": 1605613575968,
     "user": {
      "displayName": "Zhifeng LIANG",
      "photoUrl": "",
      "userId": "05210925953833265576"
     },
     "user_tz": -60
    },
    "id": "an7appXNpvmV",
    "outputId": "e48a784b-333a-4ab1-db53-2452e3411f30"
   },
   "outputs": [
    {
     "name": "stdout",
     "output_type": "stream",
     "text": [
      "\n",
      " Le coefficient de corrélation entre la dose et la réponse pour le quatrième medicament est 0.7662906893522443.\n",
      "\n"
     ]
    },
    {
     "data": {
      "image/png": "[encoded data removed]",
      "text/plain": [
       "<Figure size 432x288 with 1 Axes>"
      ]
     },
     "metadata": {
      "needs_background": "light",
      "tags": []
     },
     "output_type": "display_data"
    }
   ],
   "source": [
    "x4 = np.array(df['dose'])\n",
    "y4 = np.array(df['response 4'])\n",
    "print(f\"\\n Le coefficient de corrélation entre la dose et la réponse pour le quatrième medicament est {np.corrcoef(x4, y4)[0][1]}.\\n\")\n",
    "x4 = x4.reshape(-1,1)\n",
    "plt.scatter(x4, y4)\n",
    "plt.axhline(y=0, color='y')\n",
    "plt.axhline(y=1, color='y')\n",
    "plt.show()"
   ]
  },
  {
   "cell_type": "code",
   "execution_count": null,
   "metadata": {
    "colab": {
     "base_uri": "https://localhost:8080/"
    },
    "executionInfo": {
     "elapsed": 3974,
     "status": "ok",
     "timestamp": 1605613575968,
     "user": {
      "displayName": "Zhifeng LIANG",
      "photoUrl": "",
      "userId": "05210925953833265576"
     },
     "user_tz": -60
    },
    "id": "W8JKuFB1514N",
    "outputId": "05c3c8b1-f0b3-4282-95e7-dffb37b6d1ec"
   },
   "outputs": [
    {
     "data": {
      "text/plain": [
       "((36, 1), (36,))"
      ]
     },
     "execution_count": 23,
     "metadata": {
      "tags": []
     },
     "output_type": "execute_result"
    }
   ],
   "source": [
    "x4.shape, y4.shape"
   ]
  },
  {
   "cell_type": "markdown",
   "metadata": {
    "id": "TT8voVIo2GlC"
   },
   "source": [
    "<a id='242'></a>\n",
    "#### 2.4.2 Application de la Régression Logistique"
   ]
  },
  {
   "cell_type": "code",
   "execution_count": null,
   "metadata": {
    "id": "mukVCIM12OhA"
   },
   "outputs": [],
   "source": [
    "logistic_regressor = LogisticRegression()\n",
    "logistic_regressor.fit(x4, y4)\n",
    "y4_pred = logistic_regressor.predict(x4)"
   ]
  },
  {
   "cell_type": "code",
   "execution_count": null,
   "metadata": {
    "colab": {
     "base_uri": "https://localhost:8080/",
     "height": 265
    },
    "executionInfo": {
     "elapsed": 4838,
     "status": "ok",
     "timestamp": 1605613576846,
     "user": {
      "displayName": "Zhifeng LIANG",
      "photoUrl": "",
      "userId": "05210925953833265576"
     },
     "user_tz": -60
    },
    "id": "-xhjRWUe5Sab",
    "outputId": "0d4cf511-27ac-42c2-ce15-8134a6450e5a"
   },
   "outputs": [
    {
     "data": {
      "image/png": "[encoded data removed]",
      "text/plain": [
       "<Figure size 432x288 with 1 Axes>"
      ]
     },
     "metadata": {
      "needs_background": "light",
      "tags": []
     },
     "output_type": "display_data"
    }
   ],
   "source": [
    "plt.scatter(x4, y4)\n",
    "plt.plot(x4, y4_pred, color='red')\n",
    "plt.axhline(y=0.5, color='y')\n",
    "plt.show()"
   ]
  }
 ],
 "metadata": {
  "colab": {
   "collapsed_sections": [],
   "name": "Relation dose-reponse.ipynb",
   "provenance": []
  },
  "kernelspec": {
   "display_name": "Python 3",
   "language": "python",
   "name": "python3"
  },
  "language_info": {
   "codemirror_mode": {
    "name": "ipython",
    "version": 3
   },
   "file_extension": ".py",
   "mimetype": "text/x-python",
   "name": "python",
   "nbconvert_exporter": "python",
   "pygments_lexer": "ipython3",
   "version": "3.7.8"
  }
 },
 "nbformat": 4,
 "nbformat_minor": 4
}
